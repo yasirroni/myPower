{
 "cells": [
  {
   "cell_type": "markdown",
   "metadata": {},
   "source": [
    "# Kron's Method Tutorial using myPower\n",
    "Kron's Method is one of the most used linearization of AC power flow. In this tutorial, you will be guided to make B matrix using Kron's Method and myPower original function, Kron's Slope Method. This work is under Apache License and act as pre-print of Kron's Slope Method publication (paper publication still on progress).\n",
    "\n",
    "In this tutorial, we will use:\n",
    "\n",
    "1. NRPF as Kron's Base\n",
    "2. DCPF as evaluation target\n",
    "\n",
    "It means that all losses are evaluated in evaluation target scenario (DCPF)"
   ]
  },
  {
   "cell_type": "markdown",
   "metadata": {},
   "source": [
    "## import library"
   ]
  },
  {
   "cell_type": "code",
   "execution_count": 2,
   "metadata": {},
   "outputs": [],
   "source": [
    "import os\n",
    "import copy\n",
    "\n",
    "import mypower as myp\n",
    "from mypower.oc_api import oc_matpower"
   ]
  },
  {
   "cell_type": "markdown",
   "metadata": {},
   "source": [
    "## set MATPOWER case_name"
   ]
  },
  {
   "cell_type": "code",
   "execution_count": 4,
   "metadata": {},
   "outputs": [],
   "source": [
    "case_name = 'case9'"
   ]
  },
  {
   "cell_type": "markdown",
   "metadata": {},
   "source": [
    "## initialize myPower"
   ]
  },
  {
   "cell_type": "code",
   "execution_count": 6,
   "metadata": {},
   "outputs": [],
   "source": [
    "### start octave session for myPower\n",
    "oc = oc_matpower()"
   ]
  },
  {
   "cell_type": "code",
   "execution_count": 8,
   "metadata": {},
   "outputs": [],
   "source": [
    "### get index for unpacking myPowerCase\n",
    "idx = myp.get_index()"
   ]
  },
  {
   "cell_type": "code",
   "execution_count": 10,
   "metadata": {},
   "outputs": [
    {
     "output_type": "stream",
     "name": "stdout",
     "text": "0\n"
    }
   ],
   "source": [
    "### get slack generator index\n",
    "mypc = oc.loadcase('case9')\n",
    "mypc0 = myp.to_mypc0(mypc)\n",
    "for bus_slack,val in zip(mypc0['bus'][:,idx['BUS_I']],mypc0['bus'][:,idx['BUS_TYPE']]):\n",
    "    if val == idx['REF']:\n",
    "        bus_slack = int(bus_slack)\n",
    "        break\n",
    "for num,val in enumerate(mypc0['gen'][:,idx['GEN_BUS']]):\n",
    "    if int(val) == bus_slack:\n",
    "        gen_slack = int(num)\n",
    "        break\n",
    "print(gen_slack)"
   ]
  },
  {
   "cell_type": "markdown",
   "metadata": {},
   "source": [
    "## Newton Raphson Model (Also Kron's reference in making Kron's Matrix)"
   ]
  },
  {
   "cell_type": "code",
   "execution_count": 12,
   "metadata": {},
   "outputs": [
    {
     "output_type": "stream",
     "name": "stdout",
     "text": "\nMATPOWER Version 7.1-dev, 08-Jul-2020 -- AC Power Flow (Newton)\n\nNewton's method power flow (power balance, polar) converged in 4 iterations.\n\nConverged in 0.16 seconds\n================================================================================\n|     System Summary                                                           |\n================================================================================\n\nHow many?                How much?              P (MW)            Q (MVAr)\n---------------------    -------------------  -------------  -----------------\nBuses              9     Total Gen Capacity     820.0        -900.0 to 900.0\nGenerators         3     On-line Capacity       820.0        -900.0 to 900.0\nCommitted Gens     3     Generation (actual)    319.6              22.8\nLoads              3     Load                   315.0             115.0\n  Fixed            3       Fixed                315.0             115.0\n  Dispatchable     0       Dispatchable          -0.0 of -0.0      -0.0\nShunts             0     Shunt (inj)             -0.0               0.0\nBranches           9     Losses (I^2 * Z)         4.64             48.38\nTransformers       0     Branch Charging (inj)     -              140.5\nInter-ties         0     Total Inter-tie Flow     0.0               0.0\nAreas              1\n\n                          Minimum                      Maximum\n                 -------------------------  --------------------------------\nVoltage Magnitude   0.996 p.u. @ bus 9          1.040 p.u. @ bus 1\nVoltage Angle      -3.99 deg   @ bus 9          9.28 deg   @ bus 2\nP Losses (I^2*R)             -                  2.30 MW    @ line 8-9\nQ Losses (I^2*X)             -                 15.83 MVAr  @ line 8-2\n\n================================================================================\n|     Bus Data                                                                 |\n================================================================================\n Bus      Voltage          Generation             Load\n  #   Mag(pu) Ang(deg)   P (MW)   Q (MVAr)   P (MW)   Q (MVAr)\n----- ------- --------  --------  --------  --------  --------\n    1  1.040    0.000*    71.64     27.05       -         -\n    2  1.025    9.280    163.00      6.65       -         -\n    3  1.025    4.665     85.00    -10.86       -         -\n    4  1.026   -2.217       -         -         -         -\n    5  1.013   -3.687       -         -       90.00     30.00\n    6  1.032    1.967       -         -         -         -\n    7  1.016    0.728       -         -      100.00     35.00\n    8  1.026    3.720       -         -         -         -\n    9  0.996   -3.989       -         -      125.00     50.00\n                        --------  --------  --------  --------\n               Total:    319.64     22.84    315.00    115.00\n\n================================================================================\n|     Branch Data                                                              |\n================================================================================\nBrnch   From   To    From Bus Injection   To Bus Injection     Loss (I^2 * Z)\n  #     Bus    Bus    P (MW)   Q (MVAr)   P (MW)   Q (MVAr)   P (MW)   Q (MVAr)\n-----  -----  -----  --------  --------  --------  --------  --------  --------\n   1      1      4     71.64     27.05    -71.64    -23.92     0.000      3.12\n   2      4      5     30.70      1.03    -30.54    -16.54     0.166      0.90\n   3      5      6    -59.46    -13.46     60.82    -18.07     1.354      5.90\n   4      3      6     85.00    -10.86    -85.00     14.96     0.000      4.10\n   5      6      7     24.18      3.12    -24.10    -24.30     0.088      0.75\n   6      7      8    -75.90    -10.70     76.38     -0.80     0.475      4.03\n   7      8      2   -163.00      9.18    163.00      6.65    -0.000     15.83\n   8      8      9     86.62     -8.38    -84.32    -11.31     2.300     11.57\n   9      9      4    -40.68    -38.69     40.94     22.89     0.258      2.19\n                                                             --------  --------\n                                                    Total:     4.641     48.38\n"
    }
   ],
   "source": [
    "### run nrpf\n",
    "mypc_nr = oc.runpf(case_name)"
   ]
  },
  {
   "cell_type": "code",
   "execution_count": 14,
   "metadata": {},
   "outputs": [
    {
     "output_type": "stream",
     "name": "stdout",
     "text": "4.6410214744828835\n"
    }
   ],
   "source": [
    "### get losses for comparison\n",
    "loss_nr = sum(mypc_nr['branch'][:, idx['PF']] + mypc_nr['branch'][:, idx['PT']])\n",
    "print(loss_nr)"
   ]
  },
  {
   "cell_type": "code",
   "execution_count": 16,
   "metadata": {},
   "outputs": [
    {
     "output_type": "stream",
     "name": "stdout",
     "text": "71.64102147448243\n"
    }
   ],
   "source": [
    "### get slack generator power for comparison\n",
    "gen_PG_slack_nr = mypc_nr['gen'][gen_slack,idx['PG']]\n",
    "print(gen_PG_slack_nr)"
   ]
  },
  {
   "cell_type": "markdown",
   "metadata": {},
   "source": [
    "## DCPF Model (Also Kron's input in using Kron's Coefficient)"
   ]
  },
  {
   "cell_type": "code",
   "execution_count": 18,
   "metadata": {},
   "outputs": [
    {
     "output_type": "stream",
     "name": "stdout",
     "text": "{\n    'v': 20.0,\n    'model': 'DC',\n    'pf': {\n        'alg': 'NR',\n        'current_balance': 0.0,\n        'v_cartesian': 0.0,\n        'tol': 1e-08,\n        'nr': {\n            'max_it': 10.0,\n            'lin_solver': ''\n        },\n        'fd': {\n            'max_it': 30.0\n        },\n        'gs': {\n            'max_it': 1000.0\n        },\n        'radial': {\n            'max_it': 20.0,\n            'vcorr': 0.0\n        },\n        'enforce_q_lims': 0.0\n    },\n    'cpf': {\n        'parameterization': 3.0,\n        'stop_at': 'NOSE',\n        'enforce_p_lims': 0.0,\n        'enforce_q_lims': 0.0,\n        'enforce_v_lims': 0.0,\n        'enforce_flow_lims': 0.0,\n        'step': 0.05,\n        'step_min': 0.0001,\n        'step_max': 0.2,\n        'adapt_step': 0.0,\n        'adapt_step_damping': 0.7,\n        'adapt_step_tol': 0.001,\n        'target_lam_tol': 1e-05,\n        'nose_tol': 1e-05,\n        'p_lims_tol': 0.01,\n        'q_lims_tol': 0.01,\n        'v_lims_tol': 0.0001,\n        'flow_lims_tol': 0.01,\n        'plot': {\n            'level': 0.0,\n            'bus': [\n            ]\n        },\n        'user_callback': ''\n    },\n    'opf': {\n        'ac': {\n            'solver': 'DEFAULT'\n        },\n        'dc': {\n            'solver': 'DEFAULT'\n        },\n        'current_balance': 0.0,\n        'v_cartesian': 0.0,\n        'violation': 5e-06,\n        'use_vg': 0.0,\n        'flow_lim': 'S',\n        'ignore_angle_lim': 0.0,\n        'softlims': {\n            'default': 1.0\n        },\n        'init_from_mpc': -1.0,\n        'start': 0.0,\n        'return_raw_der': 0.0\n    },\n    'verbose': 1.0,\n    'out': {\n        'all': -1.0,\n        'sys_sum': 1.0,\n        'area_sum': 0.0,\n        'bus': 1.0,\n        'branch': 1.0,\n        'gen': 0.0,\n        'lim': {\n            'all': -1.0,\n            'v': 1.0,\n            'line': 1.0,\n            'pg': 1.0,\n            'qg': 1.0\n        },\n        'force': 0.0,\n        'suppress_detail': -1.0\n    },\n    'mips': {\n        'step_control': 0.0,\n        'linsolver': '',\n        'feastol': 0.0,\n        'gradtol': 1e-06,\n        'comptol': 1e-06,\n        'costtol': 1e-06,\n        'max_it': 150.0,\n        'sc': {\n            'red_it': 20.0\n        }\n    },\n    'exp': {\n        'sys_wide_zip_loads': {\n            'pw': [\n            ],\n            'qw': [\n            ]\n        }\n    },\n    'glpk': {\n        'opts': [\n        ],\n        'opt_fname': ''\n    },\n    'most': {\n        'build_model': 1.0,\n        'solve_model': 1.0,\n        'resolve_new_cost': 0.0,\n        'dc_model': 1.0,\n        'fixed_res': -1.0,\n        'q_coordination': 0.0,\n        'security_constraints': -1.0,\n        'storage': {\n            'terminal_target': -1.0,\n            'cyclic': 0.0\n        },\n        'uc': {\n            'run': -1.0,\n            'cyclic': 0.0\n        },\n        'alpha': 0.0,\n        'solver': 'DEFAULT',\n        'skip_prices': 0.0,\n        'price_stage_warn_tol': 1e-07\n    }\n}\n"
    }
   ],
   "source": [
    "### set mpoption to dcpf\n",
    "mpopt = oc.mpoption(model='DC')\n",
    "print(myp.pretty(mpopt))"
   ]
  },
  {
   "cell_type": "code",
   "execution_count": 20,
   "metadata": {},
   "outputs": [
    {
     "output_type": "stream",
     "name": "stdout",
     "text": "\nMATPOWER Version 7.1-dev, 08-Jul-2020 -- DC Power Flow\n\nConverged in 0.02 seconds\n================================================================================\n|     System Summary                                                           |\n================================================================================\n\nHow many?                How much?              P (MW)            Q (MVAr)\n---------------------    -------------------  -------------  -----------------\nBuses              9     Total Gen Capacity     820.0           0.0 to 0.0\nGenerators         3     On-line Capacity       820.0           0.0 to 0.0\nCommitted Gens     3     Generation (actual)    315.0               0.0\nLoads              3     Load                   315.0               0.0\n  Fixed            3       Fixed                315.0               0.0\n  Dispatchable     0       Dispatchable          -0.0 of -0.0      -0.0\nShunts             0     Shunt (inj)             -0.0               0.0\nBranches           9     Losses (I^2 * Z)         0.00              0.00\nTransformers       0     Branch Charging (inj)     -                0.0\nInter-ties         0     Total Inter-tie Flow     0.0               0.0\nAreas              1\n\n                          Minimum                      Maximum\n                 -------------------------  --------------------------------\nVoltage Magnitude   1.000 p.u. @ bus 1          1.000 p.u. @ bus 1\nVoltage Angle      -4.06 deg   @ bus 9          9.80 deg   @ bus 2\n\n================================================================================\n|     Bus Data                                                                 |\n================================================================================\n Bus      Voltage          Generation             Load\n  #   Mag(pu) Ang(deg)   P (MW)   Q (MVAr)   P (MW)   Q (MVAr)\n----- ------- --------  --------  --------  --------  --------\n    1  1.000    0.000*    67.00      0.00       -         -\n    2  1.000    9.796    163.00      0.00       -         -\n    3  1.000    5.061     85.00      0.00       -         -\n    4  1.000   -2.211       -         -         -         -\n    5  1.000   -3.738       -         -       90.00      0.00\n    6  1.000    2.207       -         -         -         -\n    7  1.000    0.822       -         -      100.00      0.00\n    8  1.000    3.959       -         -         -         -\n    9  1.000   -4.063       -         -      125.00      0.00\n                        --------  --------  --------  --------\n               Total:    315.00      0.00    315.00      0.00\n\n================================================================================\n|     Branch Data                                                              |\n================================================================================\nBrnch   From   To    From Bus Injection   To Bus Injection     Loss (I^2 * Z)\n  #     Bus    Bus    P (MW)   Q (MVAr)   P (MW)   Q (MVAr)   P (MW)   Q (MVAr)\n-----  -----  -----  --------  --------  --------  --------  --------  --------\n   1      1      4     67.00      0.00    -67.00      0.00     0.000      0.00\n   2      4      5     28.97      0.00    -28.97      0.00     0.000      0.00\n   3      5      6    -61.03      0.00     61.03      0.00     0.000      0.00\n   4      3      6     85.00      0.00    -85.00      0.00     0.000      0.00\n   5      6      7     23.97      0.00    -23.97      0.00     0.000      0.00\n   6      7      8    -76.03      0.00     76.03      0.00     0.000      0.00\n   7      8      2   -163.00      0.00    163.00      0.00     0.000      0.00\n   8      8      9     86.97      0.00    -86.97      0.00     0.000      0.00\n   9      9      4    -38.03      0.00     38.03      0.00     0.000      0.00\n                                                             --------  --------\n                                                    Total:     0.000      0.00\n"
    }
   ],
   "source": [
    "### run dcpf \n",
    "mypc_dc = oc.runpf(case_name,mpopt)"
   ]
  },
  {
   "cell_type": "code",
   "execution_count": 22,
   "metadata": {},
   "outputs": [
    {
     "output_type": "stream",
     "name": "stdout",
     "text": "0.0\n"
    }
   ],
   "source": [
    "### get losses for comparison\n",
    "loss_dc = sum(mypc_dc['branch'][:, idx['PF']] + mypc_dc['branch'][:, idx['PT']])\n",
    "print(loss_dc)"
   ]
  },
  {
   "cell_type": "code",
   "execution_count": 24,
   "metadata": {},
   "outputs": [
    {
     "output_type": "stream",
     "name": "stdout",
     "text": "66.99999999999996\n"
    }
   ],
   "source": [
    "### get slack generator power for comparison\n",
    "gen_PG_slack_dc = mypc_dc['gen'][gen_slack,idx['PG']]\n",
    "print(gen_PG_slack_dc)"
   ]
  },
  {
   "cell_type": "markdown",
   "metadata": {},
   "source": [
    "## Kron's Method Model (Also Kron's Slope reference in making Kron's Slope Coefficient)"
   ]
  },
  {
   "cell_type": "code",
   "execution_count": 26,
   "metadata": {},
   "outputs": [
    {
     "output_type": "stream",
     "name": "stdout",
     "text": "\nMATPOWER Version 7.1-dev, 08-Jul-2020 -- AC Power Flow (Newton)\n\nNewton's method power flow (power balance, polar) converged in 4 iterations.\n\nConverged in 0.12 seconds\n================================================================================\n|     System Summary                                                           |\n================================================================================\n\nHow many?                How much?              P (MW)            Q (MVAr)\n---------------------    -------------------  -------------  -----------------\nBuses              9     Total Gen Capacity     820.0        -900.0 to 900.0\nGenerators         3     On-line Capacity       820.0        -900.0 to 900.0\nCommitted Gens     3     Generation (actual)    319.6              22.8\nLoads              3     Load                   315.0             115.0\n  Fixed            3       Fixed                315.0             115.0\n  Dispatchable     0       Dispatchable          -0.0 of -0.0      -0.0\nShunts             0     Shunt (inj)             -0.0               0.0\nBranches           9     Losses (I^2 * Z)         4.64             48.38\nTransformers       0     Branch Charging (inj)     -              140.5\nInter-ties         0     Total Inter-tie Flow     0.0               0.0\nAreas              1\n\n                          Minimum                      Maximum\n                 -------------------------  --------------------------------\nVoltage Magnitude   0.996 p.u. @ bus 9          1.040 p.u. @ bus 1\nVoltage Angle      -3.99 deg   @ bus 9          9.28 deg   @ bus 2\nP Losses (I^2*R)             -                  2.30 MW    @ line 8-9\nQ Losses (I^2*X)             -                 15.83 MVAr  @ line 8-2\n\n================================================================================\n|     Bus Data                                                                 |\n================================================================================\n Bus      Voltage          Generation             Load\n  #   Mag(pu) Ang(deg)   P (MW)   Q (MVAr)   P (MW)   Q (MVAr)\n----- ------- --------  --------  --------  --------  --------\n    1  1.040    0.000*    71.64     27.05       -         -\n    2  1.025    9.280    163.00      6.65       -         -\n    3  1.025    4.665     85.00    -10.86       -         -\n    4  1.026   -2.217       -         -         -         -\n    5  1.013   -3.687       -         -       90.00     30.00\n    6  1.032    1.967       -         -         -         -\n    7  1.016    0.728       -         -      100.00     35.00\n    8  1.026    3.720       -         -         -         -\n    9  0.996   -3.989       -         -      125.00     50.00\n                        --------  --------  --------  --------\n               Total:    319.64     22.84    315.00    115.00\n\n================================================================================\n|     Branch Data                                                              |\n================================================================================\nBrnch   From   To    From Bus Injection   To Bus Injection     Loss (I^2 * Z)\n  #     Bus    Bus    P (MW)   Q (MVAr)   P (MW)   Q (MVAr)   P (MW)   Q (MVAr)\n-----  -----  -----  --------  --------  --------  --------  --------  --------\n   1      1      4     71.64     27.05    -71.64    -23.92     0.000      3.12\n   2      4      5     30.70      1.03    -30.54    -16.54     0.166      0.90\n   3      5      6    -59.46    -13.46     60.82    -18.07     1.354      5.90\n   4      3      6     85.00    -10.86    -85.00     14.96     0.000      4.10\n   5      6      7     24.18      3.12    -24.10    -24.30     0.088      0.75\n   6      7      8    -75.90    -10.70     76.38     -0.80     0.475      4.03\n   7      8      2   -163.00      9.18    163.00      6.65    -0.000     15.83\n   8      8      9     86.62     -8.38    -84.32    -11.31     2.300     11.57\n   9      9      4    -40.68    -38.69     40.94     22.89     0.258      2.19\n                                                             --------  --------\n                                                    Total:     4.641     48.38\n{\n    'B0_kron': 0.0021534893428867387,\n    'B1_kron': array([ 0.00033663, -0.00122411, -0.00253299]),\n    'B2_kron': array([[ 0.00954317, -0.00359599, -0.00395404],\n       [-0.00359599,  0.01214542,  0.00479833],\n       [-0.00395404,  0.00479833,  0.01510676]]),\n    'PG_reff': array([ 71.64102147, 163.        ,  85.        ])\n}\n"
    }
   ],
   "source": [
    "### make B using Kron's Method\n",
    "'''Note: mypc_kr is not Kron's pf output, but pf used to make B_kron'''\n",
    "B_kron,mypc_kr = myp.makeB_kron(case_name,oc=oc)\n",
    "print(myp.pretty(B_kron))"
   ]
  },
  {
   "cell_type": "code",
   "execution_count": 28,
   "metadata": {},
   "outputs": [
    {
     "output_type": "stream",
     "name": "stdout",
     "text": "loss_kr: 4.663657720595333\n\tloss_kr0: 0.21534893428867388\n\tloss_kr1: -0.39227922587824804\n\tloss_kr2: 4.840588012184907\n"
    }
   ],
   "source": [
    "### get losses for comparison\n",
    "#### total\n",
    "B0_kron,B1_kron,B2_kron = B_kron['B0_kron'], B_kron['B1_kron'], B_kron['B2_kron']\n",
    "loss_kr = myp.losses_kron(B0_kron,B1_kron,B2_kron,mypc_dc['gen'][:,idx['PG']],mypc_dc['baseMVA'])\n",
    "\n",
    "#### individually\n",
    "loss_kr0, loss_kr1, loss_kr2 = myp.losses_kron_detailed(B0_kron,B1_kron,B2_kron,mypc_dc['gen'][:,idx['PG']],mypc_dc['baseMVA'])\n",
    "\n",
    "print('loss_kr:',loss_kr)\n",
    "print('\\tloss_kr0:',loss_kr0)\n",
    "print('\\tloss_kr1:',loss_kr1)\n",
    "print('\\tloss_kr2:',loss_kr2)"
   ]
  },
  {
   "cell_type": "code",
   "execution_count": 30,
   "metadata": {},
   "outputs": [
    {
     "output_type": "stream",
     "name": "stdout",
     "text": "71.6636577205953\n"
    }
   ],
   "source": [
    "### get slack generator power for comparison\n",
    "gen_PG_slack_kr = mypc_dc['gen'][gen_slack,idx['PG']] + loss_kr\n",
    "print(gen_PG_slack_kr)"
   ]
  },
  {
   "cell_type": "markdown",
   "metadata": {},
   "source": [
    "## Kron's Slope Model"
   ]
  },
  {
   "cell_type": "code",
   "execution_count": 32,
   "metadata": {},
   "outputs": [
    {
     "output_type": "stream",
     "name": "stdout",
     "text": "\nMATPOWER Version 7.1-dev, 08-Jul-2020 -- AC Power Flow (Newton)\n\nNewton's method power flow (power balance, polar) converged in 4 iterations.\n\nConverged in 0.16 seconds\n================================================================================\n|     System Summary                                                           |\n================================================================================\n\nHow many?                How much?              P (MW)            Q (MVAr)\n---------------------    -------------------  -------------  -----------------\nBuses              9     Total Gen Capacity     820.0        -900.0 to 900.0\nGenerators         3     On-line Capacity       820.0        -900.0 to 900.0\nCommitted Gens     3     Generation (actual)    319.6              22.8\nLoads              3     Load                   315.0             115.0\n  Fixed            3       Fixed                315.0             115.0\n  Dispatchable     0       Dispatchable          -0.0 of -0.0      -0.0\nShunts             0     Shunt (inj)             -0.0               0.0\nBranches           9     Losses (I^2 * Z)         4.64             48.38\nTransformers       0     Branch Charging (inj)     -              140.5\nInter-ties         0     Total Inter-tie Flow     0.0               0.0\nAreas              1\n\n                          Minimum                      Maximum\n                 -------------------------  --------------------------------\nVoltage Magnitude   0.996 p.u. @ bus 9          1.040 p.u. @ bus 1\nVoltage Angle      -3.99 deg   @ bus 9          9.28 deg   @ bus 2\nP Losses (I^2*R)             -                  2.30 MW    @ line 8-9\nQ Losses (I^2*X)             -                 15.83 MVAr  @ line 8-2\n\n================================================================================\n|     Bus Data                                                                 |\n================================================================================\n Bus      Voltage          Generation             Load\n  #   Mag(pu) Ang(deg)   P (MW)   Q (MVAr)   P (MW)   Q (MVAr)\n----- ------- --------  --------  --------  --------  --------\n    1  1.040    0.000*    71.64     27.05       -         -\n    2  1.025    9.280    163.00      6.65       -         -\n    3  1.025    4.665     85.00    -10.86       -         -\n    4  1.026   -2.217       -         -         -         -\n    5  1.013   -3.687       -         -       90.00     30.00\n    6  1.032    1.967       -         -         -         -\n    7  1.016    0.728       -         -      100.00     35.00\n    8  1.026    3.720       -         -         -         -\n    9  0.996   -3.989       -         -      125.00     50.00\n                        --------  --------  --------  --------\n               Total:    319.64     22.84    315.00    115.00\n\n================================================================================\n|     Branch Data                                                              |\n================================================================================\nBrnch   From   To    From Bus Injection   To Bus Injection     Loss (I^2 * Z)\n  #     Bus    Bus    P (MW)   Q (MVAr)   P (MW)   Q (MVAr)   P (MW)   Q (MVAr)\n-----  -----  -----  --------  --------  --------  --------  --------  --------\n   1      1      4     71.64     27.05    -71.64    -23.92     0.000      3.12\n   2      4      5     30.70      1.03    -30.54    -16.54     0.166      0.90\n   3      5      6    -59.46    -13.46     60.82    -18.07     1.354      5.90\n   4      3      6     85.00    -10.86    -85.00     14.96     0.000      4.10\n   5      6      7     24.18      3.12    -24.10    -24.30     0.088      0.75\n   6      7      8    -75.90    -10.70     76.38     -0.80     0.475      4.03\n   7      8      2   -163.00      9.18    163.00      6.65    -0.000     15.83\n   8      8      9     86.62     -8.38    -84.32    -11.31     2.300     11.57\n   9      9      4    -40.68    -38.69     40.94     22.89     0.258      2.19\n                                                             --------  --------\n                                                    Total:     4.641     48.38\n{\n    'B0_kron': 0.0021534893428867387,\n    'B1_kron': array([ 0.00033663, -0.00122411, -0.00253299]),\n    'B2_kron': array([[ 0.00954317, -0.00359599, -0.00395404],\n       [-0.00359599,  0.01214542,  0.00479833],\n       [-0.00395404,  0.00479833,  0.01510676]]),\n    'PG_reff': array([ 71.64102147, 163.        ,  85.        ]),\n    'B_kron_slope': array([-0.00443453,  0.0413747 ,  0.03312564])\n}\n"
    }
   ],
   "source": [
    "### make B using Kron's Slope Method (Based on Taylor Series)\n",
    "'''Note: mypc_krsl is not Kron's pf output, but pf used to make B_kron'''\n",
    "B_kron_slope,mypc_krsl = myp.makeB_kron_slope(case_name,oc=oc)\n",
    "print(myp.pretty(mypc_krsl['B_kron']))"
   ]
  },
  {
   "cell_type": "code",
   "execution_count": 34,
   "metadata": {},
   "outputs": [
    {
     "output_type": "stream",
     "name": "stdout",
     "text": "4.643076985312411\n"
    }
   ],
   "source": [
    "### get losses for comparison\n",
    "loss_krsl = myp.losses_kron_slope(B0_kron,B1_kron,B2_kron,B_kron_slope,mypc_krsl['B_kron']['PG_reff'],mypc_dc['gen'][:,idx['PG']],mypc_dc['baseMVA'])\n",
    "print(loss_krsl)"
   ]
  },
  {
   "cell_type": "code",
   "execution_count": 36,
   "metadata": {},
   "outputs": [
    {
     "output_type": "stream",
     "name": "stdout",
     "text": "71.64307698531236\n"
    }
   ],
   "source": [
    "### get slack generator power for comparison\n",
    "gen_PG_slack_krsl = mypc_dc['gen'][gen_slack,idx['PG']] + loss_krsl\n",
    "print(gen_PG_slack_krsl)"
   ]
  },
  {
   "cell_type": "markdown",
   "metadata": {},
   "source": [
    "## Comparison"
   ]
  },
  {
   "cell_type": "code",
   "execution_count": 38,
   "metadata": {},
   "outputs": [
    {
     "output_type": "stream",
     "name": "stdout",
     "text": "{\n    'Losses': {\n        'NRPF': 4.6410214744828835,\n        'DCPF': 0.0,\n        'KRPF': 4.663657720595333,\n        'KRSLPF': 4.643076985312411\n    },\n    'Slack': {\n        'NRPF': 71.64102147448243,\n        'DCPF': 66.99999999999996,\n        'KRPF': 71.6636577205953,\n        'KRSLPF': 71.64307698531236\n    },\n    'Losses Error': {\n        'NRPF': 0.0,\n        'DCPF': -1.0,\n        'KRPF': 0.004877427574275995,\n        'KRSLPF': 0.00044290052110920606\n    },\n    'Slack Error': {\n        'NRPF': 0.0,\n        'DCPF': -0.0647816206268854,\n        'KRPF': 0.00031596766275771243,\n        'KRSLPF': 2.86918135396147e-05\n    }\n}\n"
    }
   ],
   "source": [
    "comparison = {\n",
    "    'Losses': {\n",
    "        'NRPF': loss_nr,\n",
    "        'DCPF': loss_dc,\n",
    "        'KRPF': loss_kr,\n",
    "        'KRSLPF': loss_krsl\n",
    "    },\n",
    "    'Slack':{\n",
    "        'NRPF': gen_PG_slack_nr,\n",
    "        'DCPF': gen_PG_slack_dc,\n",
    "        'KRPF': gen_PG_slack_kr,\n",
    "        'KRSLPF': gen_PG_slack_krsl\n",
    "    },\n",
    "    'Losses Error':{\n",
    "        'NRPF': (loss_nr - loss_nr) / loss_nr,\n",
    "        'DCPF': (loss_dc - loss_nr) / loss_nr,\n",
    "        'KRPF': (loss_kr - loss_nr) / loss_nr,\n",
    "        'KRSLPF': (loss_krsl - loss_nr) / loss_nr\n",
    "    },\n",
    "    'Slack Error':{\n",
    "        'NRPF': (gen_PG_slack_nr - gen_PG_slack_nr) / gen_PG_slack_nr,\n",
    "        'DCPF': (gen_PG_slack_dc - gen_PG_slack_nr) / gen_PG_slack_nr,\n",
    "        'KRPF': (gen_PG_slack_kr - gen_PG_slack_nr) / gen_PG_slack_nr,\n",
    "        'KRSLPF': (gen_PG_slack_krsl - gen_PG_slack_nr) / gen_PG_slack_nr\n",
    "    }\n",
    "}\n",
    "print(myp.pretty(comparison))"
   ]
  }
 ],
 "metadata": {
  "language_info": {
   "codemirror_mode": {
    "name": "ipython",
    "version": 3
   },
   "file_extension": ".py",
   "mimetype": "text/x-python",
   "name": "python",
   "nbconvert_exporter": "python",
   "pygments_lexer": "ipython3",
   "version": 3
  },
  "orig_nbformat": 2,
  "kernelspec": {
   "name": "python_defaultSpec_1597136344015",
   "display_name": "Python 3.7.4 64-bit"
  }
 },
 "nbformat": 4,
 "nbformat_minor": 2
}